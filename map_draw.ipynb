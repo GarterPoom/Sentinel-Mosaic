{
 "cells": [
  {
   "cell_type": "code",
   "execution_count": 6,
   "id": "c7f11d05",
   "metadata": {},
   "outputs": [
    {
     "name": "stdout",
     "output_type": "stream",
     "text": [
      "Map saved to map.html\n"
     ]
    }
   ],
   "source": [
    "import folium\n",
    "\n",
    "# Define the rectangle corners (counter-clockwise, and closed)\n",
    "rectangle = [\n",
    "    (20.425174, 99.295478),  # Top-left\n",
    "    (20.425174, 99.408057),  # Top-right\n",
    "    (20.306969, 99.408057),  # Bottom-right\n",
    "    (20.306969, 99.295478),  # Bottom-left\n",
    "    (20.425174, 99.295478)   # Close the loop\n",
    "]\n",
    "\n",
    "# Center of the rectangle\n",
    "center_lat = sum(lat for lat, lon in rectangle[:-1]) / 4\n",
    "center_lon = sum(lon for lat, lon in rectangle[:-1]) / 4\n",
    "\n",
    "# Create the map\n",
    "m = folium.Map(location=[center_lat, center_lon], zoom_start=11)\n",
    "\n",
    "# Draw the rectangle\n",
    "folium.PolyLine(rectangle, color=\"blue\", weight=3).add_to(m)\n",
    "\n",
    "# Add markers at the corners\n",
    "for lat, lon in rectangle[:-1]:\n",
    "    folium.Marker([lat, lon]).add_to(m)\n",
    "\n",
    "# Save to file\n",
    "m.save(\"map_2.html\")\n",
    "print(\"Map saved to map.html\")"
   ]
  }
 ],
 "metadata": {
  "kernelspec": {
   "display_name": "RIDA_env",
   "language": "python",
   "name": "python3"
  },
  "language_info": {
   "codemirror_mode": {
    "name": "ipython",
    "version": 3
   },
   "file_extension": ".py",
   "mimetype": "text/x-python",
   "name": "python",
   "nbconvert_exporter": "python",
   "pygments_lexer": "ipython3",
   "version": "3.10.15"
  }
 },
 "nbformat": 4,
 "nbformat_minor": 5
}
